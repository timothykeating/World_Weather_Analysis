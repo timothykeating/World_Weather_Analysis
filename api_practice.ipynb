{
 "cells": [
  {
   "cell_type": "code",
   "execution_count": 1,
   "id": "1648451c",
   "metadata": {},
   "outputs": [],
   "source": [
    "# Use the citipy module to determine city based on latitude and longitude.\n",
    "from citipy import citipy"
   ]
  },
  {
   "cell_type": "code",
   "execution_count": 2,
   "id": "eea86f42",
   "metadata": {},
   "outputs": [],
   "source": [
    "# Create a practice set of random latitude and longitude combinations.\n",
    "x = [25.12903645, 25.92017388, 26.62509167, -59.98969384, 37.30571269]\n",
    "y = [-67.59741259, 11.09532135, 74.84233102, -76.89176677, -61.13376282]\n",
    "coordinates = zip(x, y)"
   ]
  },
  {
   "cell_type": "code",
   "execution_count": 3,
   "id": "9911c2fd",
   "metadata": {},
   "outputs": [],
   "source": [
    "#unpack the zip, you can only do this once, so make sure to make it a list, then use that list going forward\n",
    "cords=list(coordinates)"
   ]
  },
  {
   "cell_type": "code",
   "execution_count": 4,
   "id": "809edb28",
   "metadata": {},
   "outputs": [
    {
     "name": "stdout",
     "output_type": "stream",
     "text": [
      "cockburn town tc\n",
      "gat ly\n",
      "parvatsar in\n",
      "punta arenas cl\n",
      "saint george bm\n"
     ]
    }
   ],
   "source": [
    "for cord in cords:\n",
    "    print(citipy.nearest_city(cord[0], cord[1]).city_name,\n",
    "          citipy.nearest_city(cord[0], cord[1]).country_code)"
   ]
  },
  {
   "cell_type": "code",
   "execution_count": 5,
   "id": "35d221c4",
   "metadata": {},
   "outputs": [
    {
     "name": "stdout",
     "output_type": "stream",
     "text": [
      "cockburn town\n",
      "gat\n",
      "parvatsar\n",
      "punta arenas\n",
      "saint george\n"
     ]
    }
   ],
   "source": [
    "for cord in cords:\n",
    "    print(citipy.nearest_city(cord[0], cord[1]).city_name)"
   ]
  },
  {
   "cell_type": "code",
   "execution_count": 6,
   "id": "0a8834a5",
   "metadata": {},
   "outputs": [
    {
     "name": "stdout",
     "output_type": "stream",
     "text": [
      "tc\n",
      "ly\n",
      "in\n",
      "cl\n",
      "bm\n"
     ]
    }
   ],
   "source": [
    "for cord in cords:\n",
    "    print(citipy.nearest_city(cord[0], cord[1]).country_code)"
   ]
  },
  {
   "cell_type": "code",
   "execution_count": null,
   "id": "e1f739ec",
   "metadata": {},
   "outputs": [],
   "source": []
  }
 ],
 "metadata": {
  "kernelspec": {
   "display_name": "PythonData",
   "language": "python",
   "name": "pythondata"
  },
  "language_info": {
   "codemirror_mode": {
    "name": "ipython",
    "version": 3
   },
   "file_extension": ".py",
   "mimetype": "text/x-python",
   "name": "python",
   "nbconvert_exporter": "python",
   "pygments_lexer": "ipython3",
   "version": "3.7.10"
  }
 },
 "nbformat": 4,
 "nbformat_minor": 5
}
